{
 "cells": [
  {
   "cell_type": "code",
   "execution_count": 19,
   "id": "ed64bb8a",
   "metadata": {},
   "outputs": [],
   "source": [
    "# initial setup\n",
    "\n",
    "import pandas as pd\n",
    "stock_closes = pd.read_csv('../data/raw/stock_data.csv')\n",
    "stock_closes.set_index('Date', inplace=True)\n",
    "days_12m = 252 # Approx 252 trading days in a year"
   ]
  },
  {
   "cell_type": "code",
   "execution_count": null,
   "id": "832578bf",
   "metadata": {},
   "outputs": [
    {
     "name": "stdout",
     "output_type": "stream",
     "text": [
      "                AAPL     GOOGL      MSFT\n",
      "Date                                    \n",
      "2016-01-04 -0.995235  1.004698 -0.009462\n",
      "2016-01-05 -0.994410  1.005498 -0.011088\n",
      "2016-01-06 -0.980729  1.018217 -0.037488\n",
      "2016-01-07 -0.962956  1.033326 -0.070370\n",
      "2016-01-08 -0.959760  1.035888 -0.076128\n",
      "...              ...       ...       ...\n",
      "2024-12-24  0.328752  0.794238 -1.122990\n",
      "2024-12-26  0.393774  0.743170 -1.136944\n",
      "2024-12-27  0.353415  0.775303 -1.128718\n",
      "2024-12-30  0.307501  0.810139 -1.117640\n",
      "2024-12-31  0.344069  0.782540 -1.126609\n",
      "\n",
      "[2264 rows x 3 columns]\n"
     ]
    }
   ],
   "source": [
    "# calculate z scores timeline for each stock\n",
    "\n",
    "returns_12m = stock_closes.pct_change(periods=days_12m) # Pt - P(t-252) / P(t-252)\n",
    "mean_12m = returns_12m.mean(axis=1) # across rows (all tickers at a single date)\n",
    "std_12m = returns_12m.std(axis=1)\n",
    "# print(mean_12m['2016-01-04'], std_12m) # ignore 2015 (all NaN)\n",
    "z_scores = (returns_12m.sub(mean_12m, axis=0)).div(std_12m, axis=0)\n",
    "print(z_scores)"
   ]
  }
 ],
 "metadata": {
  "kernelspec": {
   "display_name": "venv",
   "language": "python",
   "name": "python3"
  },
  "language_info": {
   "codemirror_mode": {
    "name": "ipython",
    "version": 3
   },
   "file_extension": ".py",
   "mimetype": "text/x-python",
   "name": "python",
   "nbconvert_exporter": "python",
   "pygments_lexer": "ipython3",
   "version": "3.13.5"
  }
 },
 "nbformat": 4,
 "nbformat_minor": 5
}
