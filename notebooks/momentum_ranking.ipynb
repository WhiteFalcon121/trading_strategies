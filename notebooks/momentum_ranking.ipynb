{
 "cells": [
  {
   "cell_type": "code",
   "execution_count": 34,
   "id": "ed64bb8a",
   "metadata": {},
   "outputs": [],
   "source": [
    "# initial setup\n",
    "\n",
    "import pandas as pd\n",
    "stock_closes = pd.read_csv('../data/raw/stock_data.csv')\n",
    "stock_closes.set_index('Date', inplace=True)\n",
    "days_12m = 252 # Approx 252 trading days in a year\n",
    "days_3m = 63  # Approx 63 trading days in 3 months\n",
    "days_1m = 21  # Approx 21 trading days in a month"
   ]
  },
  {
   "cell_type": "code",
   "execution_count": 76,
   "id": "832578bf",
   "metadata": {},
   "outputs": [
    {
     "name": "stdout",
     "output_type": "stream",
     "text": [
      "<class 'list'>\n",
      "NVDA\n",
      "GOOGL\n",
      "AMZN\n",
      "META\n",
      "GS\n",
      "AAPL\n",
      "JPM\n",
      "DIS\n",
      "BAC\n",
      "BA\n"
     ]
    }
   ],
   "source": [
    "# signal function to compute momentum scores based on z-scores\n",
    "\n",
    "# 1. calculate z scores timeline for each stock (computes all for backtesting)\n",
    "returns_12m = stock_closes.pct_change(periods=days_12m) # Pt - P(t-252) / P(t-252)\n",
    "mean_12m = returns_12m.mean(axis=1) # across rows (all tickers at a single date)\n",
    "std_12m = returns_12m.std(axis=1)\n",
    "# print(mean_12m['2016-01-04'], std_12m) # ignore 2015 (all NaN)\n",
    "z_scores_12m = (returns_12m.sub(mean_12m, axis=0)).div(std_12m, axis=0)\n",
    "returns_3m = stock_closes.pct_change(periods=days_3m)\n",
    "# ...\n",
    "returns_1m = stock_closes.pct_change(periods=days_1m)\n",
    "# ...\n",
    "\n",
    "# 2. or if want latest scores only\n",
    "\n",
    "'''\n",
    "latest_returns_12m = returns_12m.iloc[-1] # last row\n",
    "latest_mean_12m = latest_returns_12m.mean()\n",
    "latest_std_12m = latest_returns_12m.std()\n",
    "latest_z_scores_12m = (latest_returns_12m - latest_mean_12m) / latest_std_12m\n",
    "'''\n",
    "\n",
    "# returns = {returns_12m: stock_closes.pct_change(periods=days_12m), returns_3m: stock_closes.pct_change(periods=days_3m), returns_1m: stock_closes.pct_change(periods=days_1m)}\n",
    "returns = [stock_closes.pct_change(periods=days_12m), stock_closes.pct_change(periods=days_3m), stock_closes.pct_change(periods=days_1m)]\n",
    "\n",
    "dates = (returns[0].index[days_12m::days_1m]) # rebalancing dates (every month after first 12 months)\n",
    "\n",
    "day = '2024-12-24' # example date\n",
    "latest_z_scores = [] # list to hold latest z scores for each ticker, for each period (index 0 is 12m, 1 is 3m, 2 is 1m)\n",
    "\n",
    "for period in returns:\n",
    "    latest_returns = period.loc[day] # to get specific date's returns\n",
    "    # latest_returns = returns.iloc[-1] # last row = that day's returns\n",
    "    latest_mean = latest_returns.mean() # mean of last row\n",
    "    latest_std = latest_returns.std() # std of last row\n",
    "    latest_z_scores.append((latest_returns - latest_mean) / latest_std)\n",
    "momentum_scores = (0.5 * latest_z_scores[0]) + (0.3 * latest_z_scores[1]) + (0.2 * latest_z_scores[2])\n",
    "ranked_stocks = momentum_scores.sort_values(ascending=False)[:10] # top 10 momentum stocks to keep\n",
    "top_tickers = ranked_stocks.index.tolist()\n",
    "print(type(top_tickers))\n",
    "for i in top_tickers:\n",
    "    print(i)"
   ]
  }
 ],
 "metadata": {
  "kernelspec": {
   "display_name": "venv",
   "language": "python",
   "name": "python3"
  },
  "language_info": {
   "codemirror_mode": {
    "name": "ipython",
    "version": 3
   },
   "file_extension": ".py",
   "mimetype": "text/x-python",
   "name": "python",
   "nbconvert_exporter": "python",
   "pygments_lexer": "ipython3",
   "version": "3.13.5"
  }
 },
 "nbformat": 4,
 "nbformat_minor": 5
}
