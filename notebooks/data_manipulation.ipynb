{
 "cells": [
  {
   "cell_type": "code",
   "execution_count": null,
   "id": "41333309",
   "metadata": {},
   "outputs": [
    {
     "name": "stdout",
     "output_type": "stream",
     "text": [
      "         Date       AAPL      GOOGL       MSFT\n",
      "0  2015-01-02  24.261045  26.319653  39.933064\n",
      "1  2015-01-05  23.577576  25.818159  39.565838\n",
      "2  2015-01-06  23.579798  25.180983  38.985107\n",
      "3  2015-01-07  23.910433  25.106924  39.480442\n",
      "4  2015-01-08  24.829126  25.194403  40.641872\n"
     ]
    }
   ],
   "source": [
    "# intial setup\n",
    "\n",
    "import pandas as pd\n",
    "stock_data = pd.read_csv('../data/raw/stock_data.csv')\n",
    "print(stock_data.head())"
   ]
  },
  {
   "cell_type": "code",
   "execution_count": 35,
   "id": "26b696df",
   "metadata": {},
   "outputs": [
    {
     "name": "stdout",
     "output_type": "stream",
     "text": [
      "Index(['Date', 'AAPL', 'GOOGL', 'MSFT'], dtype='object')\n",
      "0    24.261045\n",
      "1    23.577576\n",
      "2    23.579798\n",
      "3    23.910433\n",
      "4    24.829126\n",
      "Name: AAPL, dtype: float64\n",
      "        AAPL      GOOGL\n",
      "0  24.261045  26.319653\n",
      "1  23.577576  25.818159\n",
      "2  23.579798  25.180983\n",
      "3  23.910433  25.106924\n",
      "4  24.829126  25.194403\n",
      "Date     2015-01-07\n",
      "AAPL      23.910433\n",
      "GOOGL     25.106924\n",
      "MSFT      39.480442\n",
      "Name: 3, dtype: object\n",
      "24.261045455932617 26.319652557373047\n",
      "23.57757568359375 25.818159103393555\n",
      "23.579797744750977 25.18098258972168\n",
      "AAPL: Mean=93.94992097875841, Max=258.1037292480469, Min=20.624053955078125, Std=65.50472800790635\n",
      "GOOGL: Mean=82.24142878916003, Max=196.19625854492188, Min=24.7048397064209, Std=43.516326090935245\n",
      "MSFT: Mean=181.0127967976993, Max=463.240966796875, Min=34.501617431640625, Std=123.18836003648337\n"
     ]
    }
   ],
   "source": [
    "# accessing attributes of data\n",
    "\n",
    "# headers\n",
    "print(stock_data.columns)\n",
    "\n",
    "# individual tickers\n",
    "print(stock_data.AAPL[0:5])\n",
    "\n",
    "# multiple tickers\n",
    "print(stock_data[['AAPL', 'GOOGL']][0:5])\n",
    "\n",
    "# specific row\n",
    "print(stock_data.iloc[3])\n",
    "\n",
    "# loop through rows\n",
    "for index, row in stock_data.iterrows():\n",
    "    if index < 3:\n",
    "        print(row['AAPL'], row['GOOGL'])\n",
    "\n",
    "# stats\n",
    "tickers = stock_data.columns[1:] # exclude date column\n",
    "for ticker in tickers:\n",
    "    print(f\"{ticker}: Mean={stock_data[ticker].mean()}, Max={stock_data[ticker].max()}, Min={stock_data[ticker].min()}, Std={stock_data[ticker].std()}\")\n"
   ]
  },
  {
   "cell_type": "code",
   "execution_count": 36,
   "id": "d60488a3",
   "metadata": {},
   "outputs": [
    {
     "name": "stdout",
     "output_type": "stream",
     "text": [
      "         Date       AAPL      GOOGL       MSFT\n",
      "0  2015-01-02  24.261045  26.319653  39.933064\n",
      "1  2015-01-05  23.577576  25.818159  39.565838\n",
      "2  2015-01-06  23.579798  25.180983  38.985107\n",
      "3  2015-01-07  23.910433  25.106924  39.480442\n",
      "4  2015-01-08  24.829126  25.194403  40.641872\n",
      "5  2015-01-09  24.855759  24.886745  40.300274\n",
      "6  2015-01-12  24.243290  24.704840  39.796417\n"
     ]
    }
   ],
   "source": [
    "# data quality checks\n",
    "\n",
    "# checking for missing values\n",
    "if any(stock_data.isnull().sum()) != 0:\n",
    "    print(\"Missing values found.\")\n",
    "# checking for NaN values\n",
    "if any(stock_data.isna().sum()) != 0:\n",
    "    print(\"NaN values found.\")\n",
    "# checking for duplicate dates\n",
    "if stock_data.duplicated(subset=['Date']).sum() != 0:\n",
    "    print(\"Duplicate dates found.\")\n",
    "\n",
    "# make sure data is sorted by date\n",
    "stock_data.sort_values(by='Date', inplace=True)\n",
    "print(stock_data.head(7))"
   ]
  }
 ],
 "metadata": {
  "kernelspec": {
   "display_name": "venv",
   "language": "python",
   "name": "python3"
  },
  "language_info": {
   "codemirror_mode": {
    "name": "ipython",
    "version": 3
   },
   "file_extension": ".py",
   "mimetype": "text/x-python",
   "name": "python",
   "nbconvert_exporter": "python",
   "pygments_lexer": "ipython3",
   "version": "3.13.5"
  }
 },
 "nbformat": 4,
 "nbformat_minor": 5
}
